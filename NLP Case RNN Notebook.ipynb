{
 "cells": [
  {
   "cell_type": "markdown",
   "metadata": {},
   "source": [
    "# NLP Case\n",
    "\n",
    "In deze casus bouwen we een model dat in staat is om sentiment in tekst te kunnen herkennen. Het model wordt gebouwd op een dataset van 1,6 miljoen tweets.\n",
    "\n",
    "Deze modellen kunnen bijvoorbeeld gebruikt worden om te bepalen hoe succesvol een mediacampagne geweest is of om aandelen te verhandelen op basis van hoe positief of negatief een bedrijf in het nieuws komt.\n",
    "\n",
    "\n",
    "Voor deze case hebben we twee modellen gekozen:\n",
    "* Een Word2Vec model waarbij eerst woorden omgezet worden in abstracte karakteristieken, vervolgens twee Bidirectional Long Short-Term Memory die zoeken naar de verbanden en daarna een aantal reguliere lagen die deze informatie omzet in een antwoord.\n",
    "* Exact hetzelfde model als hierboven beschreven, maar dat werkt op basis van letters in plaats van woorden. Deze aanpak werd geïntroduceerd door __[Zhang, Zhao en LeCun](https://papers.nips.cc/paper/5782-character-level-convolutional-networks-for-text-classification.pdf)__ in 2015. Dit soort modellen werken goed wanneer de lengte van de tekst beperkt is.\n",
    "\n",
    "\n",
    "De structuur van dit notebook is als volgt opgebouwd:\n",
    "* Data verkenning\n",
    "* Model suggesties\n",
    "* Data preprocessing\n",
    "* Word-based model\n",
    "* Character-based model"
   ]
  },
  {
   "cell_type": "markdown",
   "metadata": {},
   "source": [
    "## Data exploration"
   ]
  },
  {
   "cell_type": "code",
   "execution_count": 1,
   "metadata": {},
   "outputs": [],
   "source": [
    "import pandas as pd\n",
    "import numpy as np\n",
    "import matplotlib.pyplot as plt\n",
    "import seaborn as sns\n",
    "import os"
   ]
  },
  {
   "cell_type": "code",
   "execution_count": 2,
   "metadata": {},
   "outputs": [],
   "source": [
    "path = \"/Users/Laurens-Jan/Desktop/ML/NLP Case/\"\n",
    "file_name = \"training.1600000.processed.noemoticon.csv\"\n",
    "file = os.path.join(path, file_name)"
   ]
  },
  {
   "cell_type": "code",
   "execution_count": 6,
   "metadata": {},
   "outputs": [],
   "source": [
    "column_names = ['Sentiment', 'ID', 'Date', 'Query', 'Username', 'Text']\n",
    "\n",
    "df = pd.read_csv(file, header=None, names=column_names, encoding = \"ISO-8859-1\")"
   ]
  },
  {
   "cell_type": "code",
   "execution_count": 7,
   "metadata": {},
   "outputs": [
    {
     "data": {
      "text/html": [
       "<div>\n",
       "<style scoped>\n",
       "    .dataframe tbody tr th:only-of-type {\n",
       "        vertical-align: middle;\n",
       "    }\n",
       "\n",
       "    .dataframe tbody tr th {\n",
       "        vertical-align: top;\n",
       "    }\n",
       "\n",
       "    .dataframe thead th {\n",
       "        text-align: right;\n",
       "    }\n",
       "</style>\n",
       "<table border=\"1\" class=\"dataframe\">\n",
       "  <thead>\n",
       "    <tr style=\"text-align: right;\">\n",
       "      <th></th>\n",
       "      <th>Sentiment</th>\n",
       "      <th>ID</th>\n",
       "      <th>Date</th>\n",
       "      <th>Query</th>\n",
       "      <th>Username</th>\n",
       "      <th>Text</th>\n",
       "    </tr>\n",
       "  </thead>\n",
       "  <tbody>\n",
       "    <tr>\n",
       "      <td>0</td>\n",
       "      <td>0</td>\n",
       "      <td>1467810369</td>\n",
       "      <td>Mon Apr 06 22:19:45 PDT 2009</td>\n",
       "      <td>NO_QUERY</td>\n",
       "      <td>_TheSpecialOne_</td>\n",
       "      <td>@switchfoot http://twitpic.com/2y1zl - Awww, t...</td>\n",
       "    </tr>\n",
       "    <tr>\n",
       "      <td>1</td>\n",
       "      <td>0</td>\n",
       "      <td>1467810672</td>\n",
       "      <td>Mon Apr 06 22:19:49 PDT 2009</td>\n",
       "      <td>NO_QUERY</td>\n",
       "      <td>scotthamilton</td>\n",
       "      <td>is upset that he can't update his Facebook by ...</td>\n",
       "    </tr>\n",
       "    <tr>\n",
       "      <td>2</td>\n",
       "      <td>0</td>\n",
       "      <td>1467810917</td>\n",
       "      <td>Mon Apr 06 22:19:53 PDT 2009</td>\n",
       "      <td>NO_QUERY</td>\n",
       "      <td>mattycus</td>\n",
       "      <td>@Kenichan I dived many times for the ball. Man...</td>\n",
       "    </tr>\n",
       "    <tr>\n",
       "      <td>3</td>\n",
       "      <td>0</td>\n",
       "      <td>1467811184</td>\n",
       "      <td>Mon Apr 06 22:19:57 PDT 2009</td>\n",
       "      <td>NO_QUERY</td>\n",
       "      <td>ElleCTF</td>\n",
       "      <td>my whole body feels itchy and like its on fire</td>\n",
       "    </tr>\n",
       "    <tr>\n",
       "      <td>4</td>\n",
       "      <td>0</td>\n",
       "      <td>1467811193</td>\n",
       "      <td>Mon Apr 06 22:19:57 PDT 2009</td>\n",
       "      <td>NO_QUERY</td>\n",
       "      <td>Karoli</td>\n",
       "      <td>@nationwideclass no, it's not behaving at all....</td>\n",
       "    </tr>\n",
       "  </tbody>\n",
       "</table>\n",
       "</div>"
      ],
      "text/plain": [
       "   Sentiment          ID                          Date     Query  \\\n",
       "0          0  1467810369  Mon Apr 06 22:19:45 PDT 2009  NO_QUERY   \n",
       "1          0  1467810672  Mon Apr 06 22:19:49 PDT 2009  NO_QUERY   \n",
       "2          0  1467810917  Mon Apr 06 22:19:53 PDT 2009  NO_QUERY   \n",
       "3          0  1467811184  Mon Apr 06 22:19:57 PDT 2009  NO_QUERY   \n",
       "4          0  1467811193  Mon Apr 06 22:19:57 PDT 2009  NO_QUERY   \n",
       "\n",
       "          Username                                               Text  \n",
       "0  _TheSpecialOne_  @switchfoot http://twitpic.com/2y1zl - Awww, t...  \n",
       "1    scotthamilton  is upset that he can't update his Facebook by ...  \n",
       "2         mattycus  @Kenichan I dived many times for the ball. Man...  \n",
       "3          ElleCTF    my whole body feels itchy and like its on fire   \n",
       "4           Karoli  @nationwideclass no, it's not behaving at all....  "
      ]
     },
     "execution_count": 7,
     "metadata": {},
     "output_type": "execute_result"
    }
   ],
   "source": [
    "df.head()"
   ]
  },
  {
   "cell_type": "code",
   "execution_count": 8,
   "metadata": {},
   "outputs": [
    {
     "data": {
      "text/plain": [
       "(1600000, 6)"
      ]
     },
     "execution_count": 8,
     "metadata": {},
     "output_type": "execute_result"
    }
   ],
   "source": [
    "df.shape"
   ]
  },
  {
   "cell_type": "code",
   "execution_count": 10,
   "metadata": {},
   "outputs": [
    {
     "data": {
      "text/plain": [
       "374"
      ]
     },
     "execution_count": 10,
     "metadata": {},
     "output_type": "execute_result"
    }
   ],
   "source": [
    "df['Text'].str.len().max()"
   ]
  },
  {
   "cell_type": "code",
   "execution_count": 12,
   "metadata": {},
   "outputs": [
    {
     "data": {
      "text/plain": [
       "4    0.5\n",
       "0    0.5\n",
       "Name: Sentiment, dtype: float64"
      ]
     },
     "execution_count": 12,
     "metadata": {},
     "output_type": "execute_result"
    }
   ],
   "source": [
    "df['Sentiment'].value_counts()/len(df)"
   ]
  },
  {
   "cell_type": "markdown",
   "metadata": {},
   "source": [
    "## Algemene Data Pre-processing\n",
    "\n",
    "Hoewel we meerdere modellen bouwen, kunnen de volgende pre-processing stappen voor beide modellen uitgevoerd worden:\n",
    "* Data set verkleinen\n",
    "* Y-waardes omvormen naar 0 en 1, i.p.v. 0 en 4\n",
    "* De dataset splitten in Train, Cross-Validation (CV) en Test"
   ]
  },
  {
   "cell_type": "markdown",
   "metadata": {},
   "source": [
    "### Data set verkleinen\n",
    "\n",
    "De dataset bestaand uit 1.6 miljoen tweets. Voor instructie doeleinden is het niet essentieel om de hele dataset te gebruiken. Door slechts een deel te gebruiken, kunnen we het proces versnellen.\n",
    "\n",
    "Je boet in op prestatie van het model door dit te doen, maar dat is minder van belang voor deze case. We willen namelijk laten zien hoe de code achter het model functioneert.\n",
    "\n",
    "We kiezen een arbitraire hoeveelheid van 160.000 tweets."
   ]
  },
  {
   "cell_type": "code",
   "execution_count": 52,
   "metadata": {},
   "outputs": [],
   "source": [
    "Text, _, Sentiment, _ = train_test_split(df['Text'], df[\"Sentiment\"], test_size=0.9, random_state=42)"
   ]
  },
  {
   "cell_type": "markdown",
   "metadata": {},
   "source": [
    "### Y-waardes omvormen"
   ]
  },
  {
   "cell_type": "code",
   "execution_count": 53,
   "metadata": {},
   "outputs": [],
   "source": [
    "from sklearn.preprocessing import OneHotEncoder\n",
    "\n",
    "onehotencoder = OneHotEncoder(sparse=False) \n",
    "Y = onehotencoder.fit_transform(Sentiment.to_numpy().reshape(-1,1))"
   ]
  },
  {
   "cell_type": "markdown",
   "metadata": {},
   "source": [
    "### Split dataset in Train, Cross-Validation (CV), and Test"
   ]
  },
  {
   "cell_type": "code",
   "execution_count": 54,
   "metadata": {},
   "outputs": [],
   "source": [
    "from sklearn.model_selection import train_test_split\n",
    "\n",
    "X_train, X_test, Y_train, Y_test = train_test_split(Text, Y, test_size=0.1, random_state=42)\n",
    "X_cv, X_test, Y_cv, Y_test = train_test_split(X_test, Y_test, test_size=0.5, random_state=42)"
   ]
  },
  {
   "cell_type": "code",
   "execution_count": 55,
   "metadata": {},
   "outputs": [
    {
     "name": "stdout",
     "output_type": "stream",
     "text": [
      "144000 records in train, 8000 records in cv, 8000 records in test\n"
     ]
    }
   ],
   "source": [
    "print(\"{} records in train, {} records in cv, {} records in test\".format(len(X_train), len(X_cv), len(X_test)))"
   ]
  },
  {
   "cell_type": "markdown",
   "metadata": {},
   "source": [
    "## Word-based model"
   ]
  },
  {
   "cell_type": "markdown",
   "metadata": {},
   "source": [
    "### Data Pre-processing"
   ]
  },
  {
   "cell_type": "markdown",
   "metadata": {},
   "source": [
    "#### Verwijder interpunctie"
   ]
  },
  {
   "cell_type": "code",
   "execution_count": 56,
   "metadata": {},
   "outputs": [],
   "source": [
    "import string\n",
    "\n",
    "X_train_wm = X_train.str.translate(str.maketrans('', '', string.punctuation))\n",
    "X_cv_wm = X_cv.str.translate(str.maketrans('', '', string.punctuation))\n",
    "X_test_wm = X_test.str.translate(str.maketrans('', '', string.punctuation))"
   ]
  },
  {
   "cell_type": "code",
   "execution_count": 57,
   "metadata": {},
   "outputs": [],
   "source": [
    "X_train_wm = X_train_wm.astype(str)\n",
    "X_cv_wm = X_cv_wm.astype(str)\n",
    "X_test_wm = X_test_wm.astype(str)"
   ]
  },
  {
   "cell_type": "markdown",
   "metadata": {},
   "source": [
    "#### Tokenize tekst\n",
    "\n",
    "Creëer een tokenizer, die een dictionary opbouwt van alle mogelijke woorden in de training set gekoppeld aan een numerieke index. Vervolgens zetten we de zinnen om in integers, die corresponderen met de index van het eerder opgestelde woordenboek."
   ]
  },
  {
   "cell_type": "code",
   "execution_count": 58,
   "metadata": {},
   "outputs": [],
   "source": [
    "import tensorflow as tf\n",
    "from tensorflow.keras.preprocessing.text import Tokenizer"
   ]
  },
  {
   "cell_type": "code",
   "execution_count": 59,
   "metadata": {},
   "outputs": [
    {
     "name": "stdout",
     "output_type": "stream",
     "text": [
      "Number of words in Tokenizer: 145988\n"
     ]
    }
   ],
   "source": [
    "tokenizer_wm = Tokenizer(lower=True, oov_token=\"<OOV>\")\n",
    "tokenizer_wm.fit_on_texts(X_train_wm)\n",
    "\n",
    "print(\"Number of words in Tokenizer: {}\".format(len(tokenizer_wm.word_index)))"
   ]
  },
  {
   "cell_type": "code",
   "execution_count": 67,
   "metadata": {},
   "outputs": [],
   "source": [
    "sequences_train_wm = tokenizer_wm.texts_to_sequences(X_train_wm)\n",
    "sequences_cv_wm = tokenizer_wm.texts_to_sequences(X_cv_wm)\n",
    "sequences_test_wm = tokenizer_wm.texts_to_sequences(X_test_wm)"
   ]
  },
  {
   "cell_type": "markdown",
   "metadata": {},
   "source": [
    "#### Pad sequences\n",
    "\n",
    "Gebruik pad_ sequences om alle zinnen dezelfde lengte te geven. Het model is niet in staat om om te gaan met een variabele lengte van vectors en matrices. Het maximum aantal woorden in een zin is 35. Voor nu is dit kort genoeg om de zin niet af te moeten korten."
   ]
  },
  {
   "cell_type": "code",
   "execution_count": 68,
   "metadata": {},
   "outputs": [],
   "source": [
    "from tensorflow.keras.preprocessing.sequence import pad_sequences\n",
    "\n",
    "sequences_train_wm = pad_sequences(sequences_train_wm, padding='post', maxlen=35)\n",
    "sequences_cv_wm = pad_sequences(sequences_cv_wm, padding='post', maxlen=35)\n",
    "sequences_test_wm = pad_sequences(sequences_test_wm, padding='post', maxlen=35)"
   ]
  },
  {
   "cell_type": "markdown",
   "metadata": {},
   "source": [
    "### Model\n",
    "\n",
    "#### Bouw, Compile and Fit Model\n",
    "\n",
    "Ons NLP model bestaat uit een Embedding laag,  een LSTM laag en vervolgens wordt de matrix omgevorm tot een vector waarna een aantal normale lagen de verbanden leggen om tot een uitkomst te komen."
   ]
  },
  {
   "cell_type": "code",
   "execution_count": 70,
   "metadata": {},
   "outputs": [],
   "source": [
    "from tensorflow.keras.models import Sequential\n",
    "from tensorflow.keras.layers import Embedding, Flatten, Dense, LSTM, Bidirectional"
   ]
  },
  {
   "cell_type": "code",
   "execution_count": 32,
   "metadata": {},
   "outputs": [],
   "source": [
    "def model_architecture(vocab_size, max_length, lstm_dim, dense_dim):\n",
    "    \n",
    "    model = Sequential()\n",
    "\n",
    "    model.add(Embedding(vocab_size, 64, input_length=max_length))\n",
    "    model.add(Bidirectional(LSTM(lstm_dim, activation='tanh')))\n",
    "    model.add(Flatten())\n",
    "    model.add(Dense(dense_dim, activation='relu'))\n",
    "    model.add(Dense(dense_dim, activation='relu'))\n",
    "    model.add(Dense(dense_dim, activation='relu'))\n",
    "    model.add(Dense(2, activation='softmax'))\n",
    "    \n",
    "    return model"
   ]
  },
  {
   "cell_type": "code",
   "execution_count": 74,
   "metadata": {},
   "outputs": [],
   "source": [
    "vocab_size = len(tokenizer_wm.word_index) + 1\n",
    "max_length = sequences_train_wm.shape[1]\n",
    "lstm_dim = 64\n",
    "dense_dim = 128\n",
    "\n",
    "model_wm = model_architecture(vocab_size, max_length, lstm_dim, dense_dim)"
   ]
  },
  {
   "cell_type": "code",
   "execution_count": 75,
   "metadata": {},
   "outputs": [
    {
     "name": "stdout",
     "output_type": "stream",
     "text": [
      "Model: \"sequential_2\"\n",
      "_________________________________________________________________\n",
      "Layer (type)                 Output Shape              Param #   \n",
      "=================================================================\n",
      "embedding_2 (Embedding)      (None, 35, 64)            9343296   \n",
      "_________________________________________________________________\n",
      "bidirectional_2 (Bidirection (None, 128)               66048     \n",
      "_________________________________________________________________\n",
      "flatten_2 (Flatten)          (None, 128)               0         \n",
      "_________________________________________________________________\n",
      "dense_8 (Dense)              (None, 128)               16512     \n",
      "_________________________________________________________________\n",
      "dense_9 (Dense)              (None, 128)               16512     \n",
      "_________________________________________________________________\n",
      "dense_10 (Dense)             (None, 128)               16512     \n",
      "_________________________________________________________________\n",
      "dense_11 (Dense)             (None, 2)                 258       \n",
      "=================================================================\n",
      "Total params: 9,459,138\n",
      "Trainable params: 9,459,138\n",
      "Non-trainable params: 0\n",
      "_________________________________________________________________\n",
      "None\n"
     ]
    }
   ],
   "source": [
    "# compile the model\n",
    "model_wm.compile(optimizer='adam', loss='categorical_crossentropy', metrics=['acc'])\n",
    "# summarize the model\n",
    "print(model_wm.summary())"
   ]
  },
  {
   "cell_type": "code",
   "execution_count": 76,
   "metadata": {},
   "outputs": [
    {
     "name": "stdout",
     "output_type": "stream",
     "text": [
      "Train on 144000 samples, validate on 8000 samples\n",
      "Epoch 1/5\n",
      "144000/144000 [==============================] - 333s 2ms/sample - loss: 0.4745 - acc: 0.7724 - val_loss: 0.4307 - val_acc: 0.7964\n",
      "Epoch 2/5\n",
      "144000/144000 [==============================] - 319s 2ms/sample - loss: 0.2750 - acc: 0.8875 - val_loss: 0.4907 - val_acc: 0.7826\n",
      "Epoch 3/5\n",
      "144000/144000 [==============================] - 325s 2ms/sample - loss: 0.1556 - acc: 0.9387 - val_loss: 0.5979 - val_acc: 0.7739\n",
      "Epoch 4/5\n",
      "144000/144000 [==============================] - 339s 2ms/sample - loss: 0.0995 - acc: 0.9613 - val_loss: 0.6877 - val_acc: 0.7600\n",
      "Epoch 5/5\n",
      "144000/144000 [==============================] - 359s 2ms/sample - loss: 0.0703 - acc: 0.9725 - val_loss: 0.8484 - val_acc: 0.7569\n",
      "CPU times: user 1h 4min 11s, sys: 12min 30s, total: 1h 16min 42s\n",
      "Wall time: 27min 54s\n"
     ]
    }
   ],
   "source": [
    "%%time\n",
    "history_wm = model_wm.fit(sequences_train_wm, Y_train, validation_data=(sequences_cv_wm, Y_cv), batch_size=64, epochs=5)"
   ]
  },
  {
   "cell_type": "code",
   "execution_count": 38,
   "metadata": {},
   "outputs": [],
   "source": [
    "def loss_graph(history):\n",
    "    plt.plot(history.history['loss'])\n",
    "    plt.plot(history.history['val_loss'])\n",
    "    plt.title('model loss')\n",
    "    plt.ylabel('loss')\n",
    "    plt.xlabel('epoch')\n",
    "    plt.legend(['train', 'val'], loc='lower left')\n",
    "    \n",
    "    plt.show()"
   ]
  },
  {
   "cell_type": "code",
   "execution_count": 77,
   "metadata": {},
   "outputs": [],
   "source": [
    "def acc_graph(history):\n",
    "    plt.plot(history.history['acc'])\n",
    "    plt.plot(history.history['val_acc'])\n",
    "    plt.title('model accuracy')\n",
    "    plt.ylabel('accuracy')\n",
    "    plt.xlabel('epoch')\n",
    "    plt.legend(['train', 'val'], loc='lower left')\n",
    "    \n",
    "    plt.show()"
   ]
  },
  {
   "cell_type": "code",
   "execution_count": 78,
   "metadata": {},
   "outputs": [
    {
     "data": {
      "image/png": "[encoded data removed]",
      "text/plain": [
       "<Figure size 432x288 with 1 Axes>"
      ]
     },
     "metadata": {
      "needs_background": "light"
     },
     "output_type": "display_data"
    }
   ],
   "source": [
    "loss_graph(history_wm)"
   ]
  },
  {
   "cell_type": "code",
   "execution_count": 79,
   "metadata": {},
   "outputs": [
    {
     "data": {
      "image/png": "[encoded data removed]",
      "text/plain": [
       "<Figure size 432x288 with 1 Axes>"
      ]
     },
     "metadata": {
      "needs_background": "light"
     },
     "output_type": "display_data"
    }
   ],
   "source": [
    "acc_graph(history_wm)"
   ]
  },
  {
   "cell_type": "markdown",
   "metadata": {},
   "source": [
    "## Character-based model\n",
    "\n",
    "### Data Pre-Processing"
   ]
  },
  {
   "cell_type": "code",
   "execution_count": 80,
   "metadata": {},
   "outputs": [],
   "source": [
    "X_train_cm = X_train.astype(str)\n",
    "X_cv_cm = X_cv.astype(str)\n",
    "X_test_cm = X_test.astype(str)"
   ]
  },
  {
   "cell_type": "markdown",
   "metadata": {},
   "source": [
    "#### Tokenize tekst"
   ]
  },
  {
   "cell_type": "code",
   "execution_count": 81,
   "metadata": {},
   "outputs": [
    {
     "name": "stdout",
     "output_type": "stream",
     "text": [
      "Number of characters in Tokenizer: 151\n"
     ]
    }
   ],
   "source": [
    "tokenizer_cm = Tokenizer(lower=True, oov_token=\"<OOV>\", char_level=True)\n",
    "tokenizer_cm.fit_on_texts(X_train_cm)\n",
    "\n",
    "print(\"Number of characters in Tokenizer: {}\".format(len(tokenizer_cm.word_index)))"
   ]
  },
  {
   "cell_type": "code",
   "execution_count": 89,
   "metadata": {},
   "outputs": [],
   "source": [
    "sequences_train_cm = tokenizer_cm.texts_to_sequences(X_train_cm)\n",
    "sequences_cv_cm = tokenizer_cm.texts_to_sequences(X_cv_cm)\n",
    "sequences_test_cm = tokenizer_cm.texts_to_sequences(X_test_cm)"
   ]
  },
  {
   "cell_type": "markdown",
   "metadata": {},
   "source": [
    "#### Pad sequences\n",
    "\n",
    "Gebruik pad_sequences om alle zinnen dezelfde lengte te geven. Het model is niet in staat om om te gaan met een variabele lengte van vectors en matrices. Het maximum aantal woorden in een zin is 35. Voor nu is dit kort genoeg om de zin niet af te moeten korten."
   ]
  },
  {
   "cell_type": "code",
   "execution_count": 91,
   "metadata": {},
   "outputs": [],
   "source": [
    "from collections import Counter\n",
    "\n",
    "tweet_lengths = []\n",
    "for sequence in sequences_train_cm:\n",
    "    tweet_lengths.append(len(sequence))\n",
    "\n",
    "seq_len_count_dict = Counter(tweet_lengths)"
   ]
  },
  {
   "cell_type": "code",
   "execution_count": 92,
   "metadata": {},
   "outputs": [
    {
     "data": {
      "image/png": "[encoded data removed]",
      "text/plain": [
       "<Figure size 1080x576 with 1 Axes>"
      ]
     },
     "metadata": {
      "needs_background": "light"
     },
     "output_type": "display_data"
    }
   ],
   "source": [
    "plt.figure(figsize=(15,8))\n",
    "plt.title(\"Lengte van character based strings\")\n",
    "plt.bar(list(seq_len_count_dict.keys()), seq_len_count_dict.values())\n",
    "plt.show()"
   ]
  },
  {
   "cell_type": "code",
   "execution_count": 93,
   "metadata": {},
   "outputs": [],
   "source": [
    "sequences_train_cm = pad_sequences(sequences_train_cm, padding='post', maxlen=150)\n",
    "sequences_cv_cm = pad_sequences(sequences_cv_cm, padding='post', maxlen=150)\n",
    "sequences_test_cm = pad_sequences(sequences_test_cm, padding='post', maxlen=150)"
   ]
  },
  {
   "cell_type": "markdown",
   "metadata": {},
   "source": [
    "### Model\n",
    "\n",
    "Het model volgt dezelfde architectuur als het word-based model. Dit doen we om te onderzoeken wat het effect is van de character-based benadering.\n",
    "\n",
    "Deze aanpak leidt tot fors minder trainbare parameters in de eerste laag, maar doordat de LSTM laag langer memory moet bijhouden kost het character-based model toch meer rekenkracht.\n",
    "\n",
    "#### Bouw, Compile and Fit Model"
   ]
  },
  {
   "cell_type": "code",
   "execution_count": 96,
   "metadata": {},
   "outputs": [],
   "source": [
    "vocab_size_cm = len(tokenizer_cm.word_index) + 1\n",
    "max_length = sequences_train_cm.shape[1]\n",
    "lstm_dim = 64\n",
    "dense_dim = 128\n",
    "\n",
    "model_cm = model_architecture(vocab_size_cm, max_length, lstm_dim, dense_dim)"
   ]
  },
  {
   "cell_type": "code",
   "execution_count": 97,
   "metadata": {},
   "outputs": [
    {
     "name": "stdout",
     "output_type": "stream",
     "text": [
      "Model: \"sequential_4\"\n",
      "_________________________________________________________________\n",
      "Layer (type)                 Output Shape              Param #   \n",
      "=================================================================\n",
      "embedding_4 (Embedding)      (None, 150, 64)           9728      \n",
      "_________________________________________________________________\n",
      "bidirectional_4 (Bidirection (None, 128)               66048     \n",
      "_________________________________________________________________\n",
      "flatten_4 (Flatten)          (None, 128)               0         \n",
      "_________________________________________________________________\n",
      "dense_16 (Dense)             (None, 128)               16512     \n",
      "_________________________________________________________________\n",
      "dense_17 (Dense)             (None, 128)               16512     \n",
      "_________________________________________________________________\n",
      "dense_18 (Dense)             (None, 128)               16512     \n",
      "_________________________________________________________________\n",
      "dense_19 (Dense)             (None, 2)                 258       \n",
      "=================================================================\n",
      "Total params: 125,570\n",
      "Trainable params: 125,570\n",
      "Non-trainable params: 0\n",
      "_________________________________________________________________\n",
      "None\n"
     ]
    }
   ],
   "source": [
    "# compile the model\n",
    "model_cm.compile(optimizer='adam', loss='categorical_crossentropy', metrics=['acc'])\n",
    "# summarize the model\n",
    "print(model_cm.summary())"
   ]
  },
  {
   "cell_type": "code",
   "execution_count": 98,
   "metadata": {},
   "outputs": [
    {
     "name": "stdout",
     "output_type": "stream",
     "text": [
      "Train on 144000 samples, validate on 8000 samples\n",
      "Epoch 1/5\n",
      "144000/144000 [==============================] - 711s 5ms/sample - loss: 0.6513 - acc: 0.6184 - val_loss: 0.6285 - val_acc: 0.6614\n",
      "Epoch 2/5\n",
      "144000/144000 [==============================] - 608s 4ms/sample - loss: 0.5989 - acc: 0.6796 - val_loss: 0.5614 - val_acc: 0.7082\n",
      "Epoch 3/5\n",
      "144000/144000 [==============================] - 605s 4ms/sample - loss: 0.5408 - acc: 0.7292 - val_loss: 0.5247 - val_acc: 0.7360\n",
      "Epoch 4/5\n",
      "144000/144000 [==============================] - 612s 4ms/sample - loss: 0.4936 - acc: 0.7606 - val_loss: 0.4783 - val_acc: 0.7659\n",
      "Epoch 5/5\n",
      "144000/144000 [==============================] - 615s 4ms/sample - loss: 0.4617 - acc: 0.7820 - val_loss: 0.4613 - val_acc: 0.7822\n",
      "CPU times: user 2h 23min 46s, sys: 14min 47s, total: 2h 38min 34s\n",
      "Wall time: 52min 31s\n"
     ]
    }
   ],
   "source": [
    "%%time\n",
    "history_cm = model_cm.fit(sequences_train_cm, Y_train, validation_data=(sequences_cv_cm, Y_cv), epochs=5)"
   ]
  },
  {
   "cell_type": "code",
   "execution_count": 99,
   "metadata": {},
   "outputs": [
    {
     "data": {
      "image/png": "[encoded data removed]",
      "text/plain": [
       "<Figure size 432x288 with 1 Axes>"
      ]
     },
     "metadata": {
      "needs_background": "light"
     },
     "output_type": "display_data"
    }
   ],
   "source": [
    "loss_graph(history_cm)"
   ]
  },
  {
   "cell_type": "code",
   "execution_count": 100,
   "metadata": {},
   "outputs": [
    {
     "data": {
      "image/png": "[encoded data removed]",
      "text/plain": [
       "<Figure size 432x288 with 1 Axes>"
      ]
     },
     "metadata": {
      "needs_background": "light"
     },
     "output_type": "display_data"
    }
   ],
   "source": [
    "acc_graph(history_cm)"
   ]
  }
 ],
 "metadata": {
  "kernelspec": {
   "display_name": "Python 3",
   "language": "python",
   "name": "python3"
  },
  "language_info": {
   "codemirror_mode": {
    "name": "ipython",
    "version": 3
   },
   "file_extension": ".py",
   "mimetype": "text/x-python",
   "name": "python",
   "nbconvert_exporter": "python",
   "pygments_lexer": "ipython3",
   "version": "3.6.9"
  }
 },
 "nbformat": 4,
 "nbformat_minor": 2
}
